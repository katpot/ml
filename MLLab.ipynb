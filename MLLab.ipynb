{
  "nbformat": 4,
  "nbformat_minor": 0,
  "metadata": {
    "colab": {
      "provenance": [],
      "collapsed_sections": [
        "FLp8JGYD_xi0",
        "PyplcMWqAref",
        "6L9CCM_VA7Wf",
        "MUokUj1SBKCQ",
        "YOY8MvygBfyg",
        "N6Dw8MXOB_YZ",
        "aedlj4lNEu5k",
        "KzxJYAK_I-eq",
        "uu5QReJHJpBH",
        "2BAfF8V0KBGp"
      ]
    },
    "kernelspec": {
      "name": "python3",
      "display_name": "Python 3"
    },
    "language_info": {
      "name": "python"
    }
  },
  "cells": [
    {
      "cell_type": "code",
      "source": [
        "from google.colab import drive\n",
        "drive.mount('/content/drive')"
      ],
      "metadata": {
        "id": "iZ0Y_XlwAeGY"
      },
      "execution_count": null,
      "outputs": []
    },
    {
      "cell_type": "code",
      "source": [
        "drive.mount(\"/content/drive\", force_remount=True)"
      ],
      "metadata": {
        "id": "umPPXaLxEP9Z"
      },
      "execution_count": null,
      "outputs": []
    },
    {
      "cell_type": "markdown",
      "source": [
        "###1. FIND-S algorithm"
      ],
      "metadata": {
        "id": "FLp8JGYD_xi0"
      }
    },
    {
      "cell_type": "code",
      "execution_count": 3,
      "metadata": {
        "colab": {
          "base_uri": "https://localhost:8080/"
        },
        "id": "fSQwYEgh_kh_",
        "outputId": "579ee995-d919-4092-e901-c325a86ac435"
      },
      "outputs": [
        {
          "output_type": "stream",
          "name": "stdout",
          "text": [
            "index            0\n",
            "Sky          Sunny\n",
            "AirTemp       Warm\n",
            "Humidity    Normal\n",
            "Wind        Strong\n",
            "Water         Warm\n",
            "Forecast      Same\n",
            "Name: 0, dtype: object\n",
            "['Sunny' 'Warm' '?' 'Strong' '?' '?'] \n",
            "\n",
            "\n"
          ]
        },
        {
          "output_type": "stream",
          "name": "stderr",
          "text": [
            "<ipython-input-3-2df672a70dfc>:16: SettingWithCopyWarning: \n",
            "A value is trying to be set on a copy of a slice from a DataFrame\n",
            "\n",
            "See the caveats in the documentation: https://pandas.pydata.org/pandas-docs/stable/user_guide/indexing.html#returning-a-view-versus-a-copy\n",
            "  hyp[x] = '?'\n"
          ]
        }
      ],
      "source": [
        "import pandas as pd\n",
        "import numpy as np\n",
        "\n",
        "file_path = '/content/drive/MyDrive/STUDY2/ML LAB/DATASETS/EnjoySport.csv'  # Replace with the actual file path\n",
        "df = pd.read_csv(file_path)\n",
        "df_positive=df[df['EnjoySport']=='Yes']\n",
        "df_positive=df_positive[['Sky', 'AirTemp', 'Humidity', 'Wind', 'Water', 'Forecast']].reset_index()\n",
        "df_positive\n",
        "\n",
        "hyp=df_positive.loc[0]\n",
        "print(hyp)\n",
        "\n",
        "for i, row in df_positive.iterrows():\n",
        "    for x in hyp.index[1:]:\n",
        "        if hyp[x] != row[x]:\n",
        "            hyp[x] = '?'\n",
        "\n",
        "arr=np.array(hyp[1:])\n",
        "print(arr,\"\\n\\n\")"
      ]
    },
    {
      "cell_type": "markdown",
      "source": [
        "###2. Candidate-Elimination algorithm"
      ],
      "metadata": {
        "id": "PyplcMWqAref"
      }
    },
    {
      "cell_type": "code",
      "source": [
        "import numpy as np\n",
        "import pandas as pd\n",
        "import csv\n",
        "\n",
        "with open(\"/content/drive/MyDrive/STUDY2/ML LAB/DATASETS/EnjoySport.csv\") as f:\n",
        "    csv_file=csv.reader(f)\n",
        "    data=list(csv_file)\n",
        "\n",
        "    s=data[1][:-1]\n",
        "    g=[['?' for i in range(len(s))] for j in range(len(s))]\n",
        "\n",
        "    for i in data:\n",
        "        if i[-1]==\"Yes\":\n",
        "            for j in range(len(s)):\n",
        "                if i[j]!=s[j]:\n",
        "                    s[j]='?'\n",
        "                    g[j][j]='?'\n",
        "\n",
        "        elif i[-1]==\"No\":\n",
        "            for j in range(len(s)):\n",
        "                if i[j]!=s[j]:\n",
        "                    g[j][j]=s[j]\n",
        "                else:\n",
        "                    g[j][j]=\"?\"\n",
        "        print(\"\\nSteps of Candidate Elimination Algorithm\",data.index(i)+1)\n",
        "        print(s)\n",
        "        print(g)\n",
        "\n",
        "    gh=[]\n",
        "    for i in g:\n",
        "        for j in i:\n",
        "            if j!='?':\n",
        "                gh.append(i)\n",
        "                break\n",
        "\n",
        "    print(\"\\nFinal specific hypothesis:\\n\",s)\n",
        "    print(\"\\nFinal general hypothesis:\\n\",gh)"
      ],
      "metadata": {
        "colab": {
          "base_uri": "https://localhost:8080/"
        },
        "id": "0jDua3ynAa-N",
        "outputId": "3c7408d7-0f33-42fd-8ced-70e1c76858fa"
      },
      "execution_count": 4,
      "outputs": [
        {
          "output_type": "stream",
          "name": "stdout",
          "text": [
            "\n",
            "Steps of Candidate Elimination Algorithm 1\n",
            "['Sunny', 'Warm', 'Normal', 'Strong', 'Warm', 'Same']\n",
            "[['?', '?', '?', '?', '?', '?'], ['?', '?', '?', '?', '?', '?'], ['?', '?', '?', '?', '?', '?'], ['?', '?', '?', '?', '?', '?'], ['?', '?', '?', '?', '?', '?'], ['?', '?', '?', '?', '?', '?']]\n",
            "\n",
            "Steps of Candidate Elimination Algorithm 2\n",
            "['Sunny', 'Warm', 'Normal', 'Strong', 'Warm', 'Same']\n",
            "[['?', '?', '?', '?', '?', '?'], ['?', '?', '?', '?', '?', '?'], ['?', '?', '?', '?', '?', '?'], ['?', '?', '?', '?', '?', '?'], ['?', '?', '?', '?', '?', '?'], ['?', '?', '?', '?', '?', '?']]\n",
            "\n",
            "Steps of Candidate Elimination Algorithm 3\n",
            "['Sunny', 'Warm', '?', 'Strong', 'Warm', 'Same']\n",
            "[['?', '?', '?', '?', '?', '?'], ['?', '?', '?', '?', '?', '?'], ['?', '?', '?', '?', '?', '?'], ['?', '?', '?', '?', '?', '?'], ['?', '?', '?', '?', '?', '?'], ['?', '?', '?', '?', '?', '?']]\n",
            "\n",
            "Steps of Candidate Elimination Algorithm 4\n",
            "['Sunny', 'Warm', '?', 'Strong', 'Warm', 'Same']\n",
            "[['Sunny', '?', '?', '?', '?', '?'], ['?', 'Warm', '?', '?', '?', '?'], ['?', '?', '?', '?', '?', '?'], ['?', '?', '?', '?', '?', '?'], ['?', '?', '?', '?', '?', '?'], ['?', '?', '?', '?', '?', 'Same']]\n",
            "\n",
            "Steps of Candidate Elimination Algorithm 5\n",
            "['Sunny', 'Warm', '?', 'Strong', '?', '?']\n",
            "[['Sunny', '?', '?', '?', '?', '?'], ['?', 'Warm', '?', '?', '?', '?'], ['?', '?', '?', '?', '?', '?'], ['?', '?', '?', '?', '?', '?'], ['?', '?', '?', '?', '?', '?'], ['?', '?', '?', '?', '?', '?']]\n",
            "\n",
            "Final specific hypothesis:\n",
            " ['Sunny', 'Warm', '?', 'Strong', '?', '?']\n",
            "\n",
            "Final general hypothesis:\n",
            " [['Sunny', '?', '?', '?', '?', '?'], ['?', 'Warm', '?', '?', '?', '?']]\n"
          ]
        }
      ]
    },
    {
      "cell_type": "markdown",
      "source": [
        "###3. naïve Bayesian classifier"
      ],
      "metadata": {
        "id": "6L9CCM_VA7Wf"
      }
    },
    {
      "cell_type": "code",
      "source": [
        "import pandas as pd\n",
        "file_path= '/content/drive/MyDrive/STUDY2/ML LAB/DATASETS/play_tennis.csv'\n",
        "df = pd.read_csv(file_path)\n",
        "\n",
        "\n",
        "from sklearn.model_selection import train_test_split\n",
        "from sklearn.naive_bayes import MultinomialNB\n",
        "from sklearn.metrics import accuracy_score, precision_score, recall_score, confusion_matrix\n",
        "\n",
        "X = df.drop('play', axis=1)\n",
        "X = pd.get_dummies(X)\n",
        "print(X)\n",
        "\n",
        "X_train, X_test, y_train, y_test = train_test_split(X, df['play'], test_size=0.2, random_state=42)\n",
        "\n",
        "naive_bayes_classifier = MultinomialNB().fit(X_train, y_train)\n",
        "\n",
        "\n",
        "y_pred = naive_bayes_classifier.predict(X_test)\n",
        "print(\"\\nClassification is \",y_pred)\n",
        "\n",
        "accuracy = accuracy_score(y_test, y_pred)\n",
        "precision = precision_score(y_test, y_pred, pos_label='Yes')\n",
        "recall = recall_score(y_test, y_pred, pos_label='Yes')\n",
        "conf_matrix = confusion_matrix(y_test, y_pred)\n",
        "\n",
        "print(\"\\nResults:\")\n",
        "print(\"Accuracy: \",accuracy)\n",
        "print(\"Recall: \",recall)\n",
        "print(\"Precision: \",precision)\n",
        "print(\"\\nConfusion Matrix:\")\n",
        "print(conf_matrix)"
      ],
      "metadata": {
        "colab": {
          "base_uri": "https://localhost:8080/"
        },
        "id": "4jvxN467A_yw",
        "outputId": "01d85a54-e4d9-4617-fcf9-68ecbefd9f3f"
      },
      "execution_count": 5,
      "outputs": [
        {
          "output_type": "stream",
          "name": "stdout",
          "text": [
            "    day_D1  day_D10  day_D11  day_D12  day_D13  day_D14  day_D2  day_D3  \\\n",
            "0     True    False    False    False    False    False   False   False   \n",
            "1    False    False    False    False    False    False    True   False   \n",
            "2    False    False    False    False    False    False   False    True   \n",
            "3    False    False    False    False    False    False   False   False   \n",
            "4    False    False    False    False    False    False   False   False   \n",
            "5    False    False    False    False    False    False   False   False   \n",
            "6    False    False    False    False    False    False   False   False   \n",
            "7    False    False    False    False    False    False   False   False   \n",
            "8    False    False    False    False    False    False   False   False   \n",
            "9    False     True    False    False    False    False   False   False   \n",
            "10   False    False     True    False    False    False   False   False   \n",
            "11   False    False    False     True    False    False   False   False   \n",
            "12   False    False    False    False     True    False   False   False   \n",
            "13   False    False    False    False    False     True   False   False   \n",
            "\n",
            "    day_D4  day_D5  ...  outlook_Overcast  outlook_Rain  outlook_Sunny  \\\n",
            "0    False   False  ...             False         False           True   \n",
            "1    False   False  ...             False         False           True   \n",
            "2    False   False  ...              True         False          False   \n",
            "3     True   False  ...             False          True          False   \n",
            "4    False    True  ...             False          True          False   \n",
            "5    False   False  ...             False          True          False   \n",
            "6    False   False  ...              True         False          False   \n",
            "7    False   False  ...             False         False           True   \n",
            "8    False   False  ...             False         False           True   \n",
            "9    False   False  ...             False          True          False   \n",
            "10   False   False  ...             False         False           True   \n",
            "11   False   False  ...              True         False          False   \n",
            "12   False   False  ...              True         False          False   \n",
            "13   False   False  ...             False          True          False   \n",
            "\n",
            "    temp_Cool  temp_Hot  temp_Mild  humidity_High  humidity_Normal  \\\n",
            "0       False      True      False           True            False   \n",
            "1       False      True      False           True            False   \n",
            "2       False      True      False           True            False   \n",
            "3       False     False       True           True            False   \n",
            "4        True     False      False          False             True   \n",
            "5        True     False      False          False             True   \n",
            "6        True     False      False          False             True   \n",
            "7       False     False       True           True            False   \n",
            "8        True     False      False          False             True   \n",
            "9       False     False       True          False             True   \n",
            "10      False     False       True          False             True   \n",
            "11      False     False       True           True            False   \n",
            "12      False      True      False          False             True   \n",
            "13      False     False       True           True            False   \n",
            "\n",
            "    wind_Strong  wind_Weak  \n",
            "0         False       True  \n",
            "1          True      False  \n",
            "2         False       True  \n",
            "3         False       True  \n",
            "4         False       True  \n",
            "5          True      False  \n",
            "6          True      False  \n",
            "7         False       True  \n",
            "8         False       True  \n",
            "9         False       True  \n",
            "10         True      False  \n",
            "11         True      False  \n",
            "12        False       True  \n",
            "13         True      False  \n",
            "\n",
            "[14 rows x 24 columns]\n",
            "\n",
            "Classification is  ['Yes' 'No' 'Yes']\n",
            "\n",
            "Results:\n",
            "Accuracy:  0.3333333333333333\n",
            "Recall:  0.5\n",
            "Precision:  0.5\n",
            "\n",
            "Confusion Matrix:\n",
            "[[0 1]\n",
            " [1 1]]\n"
          ]
        }
      ]
    },
    {
      "cell_type": "markdown",
      "source": [
        "###4. Text Classification - naïve Bayesian classifier model"
      ],
      "metadata": {
        "id": "MUokUj1SBKCQ"
      }
    },
    {
      "cell_type": "code",
      "source": [
        "import pandas as pd\n",
        "from sklearn.feature_extraction.text import CountVectorizer\n",
        "from sklearn.model_selection import train_test_split\n",
        "from sklearn.naive_bayes import MultinomialNB\n",
        "from sklearn.metrics import accuracy_score, precision_score, recall_score, confusion_matrix\n",
        "\n",
        "file_path= '/content/drive/MyDrive/STUDY2/ML LAB/DATASETS/text_classification.csv'\n",
        "df = pd.read_csv(file_path)\n",
        "\n",
        "X_train, X_test, y_train, y_test = train_test_split(df['text'], df['yes/no'], test_size=0.2, random_state=42)\n",
        "\n",
        "vectorizer = CountVectorizer()\n",
        "X_train_vect = vectorizer.fit_transform(X_train)\n",
        "X_test_vect = vectorizer.transform(X_test)\n",
        "\n",
        "nb_classifier = MultinomialNB().fit(X_train_vect, y_train)\n",
        "\n",
        "y_pred = nb_classifier.predict(X_test_vect)\n",
        "\n",
        "feature_names = vectorizer.get_feature_names_out()\n",
        "print(\"Words or Tokens in the text document:\")\n",
        "print(feature_names,\"\\n\")\n",
        "\n",
        "accuracy = accuracy_score(y_test, y_pred)\n",
        "precision = precision_score(y_test, y_pred, pos_label='yes')\n",
        "recall = recall_score(y_test, y_pred, pos_label='yes')\n",
        "conf_matrix = confusion_matrix(y_test, y_pred, labels=['yes', 'no'])\n",
        "\n",
        "print(\"Confusion Matrix:\\n\", conf_matrix,\"\\n\")\n",
        "print(\"Accuracy:\", round(accuracy, 5),\"\\n\")\n",
        "print(\"Precision (Yes):\", round(precision, 5),\"\\n\")\n",
        "print(\"Recall (Yes):\", round(recall, 5))"
      ],
      "metadata": {
        "colab": {
          "base_uri": "https://localhost:8080/"
        },
        "id": "0WV2aQ63BUIR",
        "outputId": "bc827bed-bb4e-4c4e-9250-49c52034fdf8"
      },
      "execution_count": 6,
      "outputs": [
        {
          "output_type": "stream",
          "name": "stdout",
          "text": [
            "Words or Tokens in the text document:\n",
            "['about' 'am' 'an' 'and' 'awesome' 'bad' 'beers' 'best' 'boss' 'can'\n",
            " 'dance' 'deal' 'donot' 'enemy' 'feel' 'fun' 'good' 'great' 'have'\n",
            " 'holiday' 'horrible' 'house' 'is' 'juice' 'like' 'locality' 'love' 'my'\n",
            " 'of' 'place' 'sick' 'stay' 'stuff' 'taste' 'that' 'the' 'these' 'this'\n",
            " 'tired' 'to' 'today' 'tomorrow' 'very' 'view' 'we' 'went' 'what' 'will'\n",
            " 'with' 'work'] \n",
            "\n",
            "Confusion Matrix:\n",
            " [[2 0]\n",
            " [0 2]] \n",
            "\n",
            "Accuracy: 1.0 \n",
            "\n",
            "Precision (Yes): 1.0 \n",
            "\n",
            "Recall (Yes): 1.0\n"
          ]
        }
      ]
    },
    {
      "cell_type": "markdown",
      "source": [
        "###5. Bayesian Belief network"
      ],
      "metadata": {
        "id": "YOY8MvygBfyg"
      }
    },
    {
      "cell_type": "code",
      "source": [
        "!pip install pgmpy"
      ],
      "metadata": {
        "id": "4hX8pt6jBzAB"
      },
      "execution_count": null,
      "outputs": []
    },
    {
      "cell_type": "code",
      "source": [
        "import numpy as np\n",
        "import pandas as pd\n",
        "import csv\n",
        "\n",
        "from pgmpy.estimators import MaximumLikelihoodEstimator\n",
        "from pgmpy.models import BayesianNetwork\n",
        "from pgmpy.inference import VariableElimination\n",
        "\n",
        "heartDisease = pd.read_csv('/content/drive/MyDrive/STUDY2/ML LAB/DATASETS/heart.csv')\n",
        "heartDisease = heartDisease.replace('?',np.nan)\n",
        "\n",
        "print('Sample instances from the dataset are given below')\n",
        "print(heartDisease.head())\n",
        "\n",
        "print('\\n Attributes and datatypes')\n",
        "print(heartDisease.dtypes)\n",
        "heartDisease.rename(columns={\"target\":\"heartdisease\"},inplace=True)\n",
        "\n",
        "model =BayesianNetwork([('age', 'heartdisease'), ('sex', 'heartdisease'), ('exang', 'heartdisease'), ('cp', 'heartdisease'),\n",
        "('heartdisease', 'restecg'), ('heartdisease', 'chol')])\n",
        "\n",
        "\n",
        "print('\\n Learning CPD using Maximum likelihood estimators')\n",
        "model.fit(heartDisease, estimator=MaximumLikelihoodEstimator)\n",
        "\n",
        "print('\\n Inferencing with Bayesian Network:')\n",
        "HeartDiseasetest_infer = VariableElimination(model)\n",
        "\n",
        "print('\\n 1. Probability of Heart Disease given evidence-restecg :1')\n",
        "q1=HeartDiseasetest_infer.query(variables=['heartdisease'], evidence={'restecg':1})\n",
        "print(q1)\n",
        "\n",
        "print('\\n 2. Probability of Heart Disease given evidence= cp:2 ')\n",
        "q2=HeartDiseasetest_infer.query(variables=['heartdisease'], evidence={'cp':2})\n",
        "print(q2)"
      ],
      "metadata": {
        "colab": {
          "base_uri": "https://localhost:8080/"
        },
        "id": "z-h6XtwUBkcw",
        "outputId": "16ec2c51-45c8-451c-c3ac-32ff12a0fa99"
      },
      "execution_count": 9,
      "outputs": [
        {
          "output_type": "stream",
          "name": "stdout",
          "text": [
            "Sample instances from the dataset are given below\n",
            "   age  sex  cp  trestbps  chol  fbs  restecg  thalach  exang  oldpeak  slope  \\\n",
            "0   63    1   3       145   233    1        0      150      0      2.3      0   \n",
            "1   37    1   2       130   250    0        1      187      0      3.5      0   \n",
            "2   41    0   1       130   204    0        0      172      0      1.4      2   \n",
            "3   56    1   1       120   236    0        1      178      0      0.8      2   \n",
            "4   57    0   0       120   354    0        1      163      1      0.6      2   \n",
            "\n",
            "   ca  thal  target  \n",
            "0   0     1       1  \n",
            "1   0     2       1  \n",
            "2   0     2       1  \n",
            "3   0     2       1  \n",
            "4   0     2       1  \n",
            "\n",
            " Attributes and datatypes\n",
            "age           int64\n",
            "sex           int64\n",
            "cp            int64\n",
            "trestbps      int64\n",
            "chol          int64\n",
            "fbs           int64\n",
            "restecg       int64\n",
            "thalach       int64\n",
            "exang         int64\n",
            "oldpeak     float64\n",
            "slope         int64\n",
            "ca            int64\n",
            "thal          int64\n",
            "target        int64\n",
            "dtype: object\n",
            "\n",
            " Learning CPD using Maximum likelihood estimators\n",
            "\n",
            " Inferencing with Bayesian Network:\n",
            "\n",
            " 1. Probability of Heart Disease given evidence-restecg :1\n",
            "+-----------------+---------------------+\n",
            "| heartdisease    |   phi(heartdisease) |\n",
            "+=================+=====================+\n",
            "| heartdisease(0) |              0.4242 |\n",
            "+-----------------+---------------------+\n",
            "| heartdisease(1) |              0.5758 |\n",
            "+-----------------+---------------------+\n",
            "\n",
            " 2. Probability of Heart Disease given evidence= cp:2 \n",
            "+-----------------+---------------------+\n",
            "| heartdisease    |   phi(heartdisease) |\n",
            "+=================+=====================+\n",
            "| heartdisease(0) |              0.3755 |\n",
            "+-----------------+---------------------+\n",
            "| heartdisease(1) |              0.6245 |\n",
            "+-----------------+---------------------+\n"
          ]
        }
      ]
    },
    {
      "cell_type": "markdown",
      "source": [
        "###6. Decision tree based ID3 algorithm"
      ],
      "metadata": {
        "id": "N6Dw8MXOB_YZ"
      }
    },
    {
      "cell_type": "code",
      "source": [
        "import pandas as pd\n",
        "import numpy as np\n",
        "import math"
      ],
      "metadata": {
        "id": "zGCXh2b0CFjj"
      },
      "execution_count": 24,
      "outputs": []
    },
    {
      "cell_type": "code",
      "source": [
        "df = pd.read_csv('/content/drive/MyDrive/STUDY2/ML LAB/DATASETS/play_tennis_id3.csv')"
      ],
      "metadata": {
        "id": "4SIkdm7yCX6f"
      },
      "execution_count": 23,
      "outputs": []
    },
    {
      "cell_type": "code",
      "source": [
        "def entropy(s):\n",
        "    p = s.loc[s['play']=='Yes']\n",
        "    n = s.loc[s['play']=='No']\n",
        "    if (p.shape[0] == 0 or n.shape[0] == 0):\n",
        "        return 0\n",
        "    pRatio = p.shape[0]/s.shape[0]\n",
        "    nRatio = n.shape[0]/s.shape[0]\n",
        "    entropy = -pRatio * math.log2(pRatio) -nRatio * math.log2(nRatio)\n",
        "    return entropy\n",
        "\n",
        "def gain(s, a):\n",
        "    gain = entropy(s)\n",
        "    for value in s[a].unique():\n",
        "        gain -= (s[s[a]==value].shape[0] / s.shape[0]) * entropy(s[s[a]==value])\n",
        "    return gain\n",
        "\n",
        "def id3(X, target, attrs):\n",
        "    root = {}\n",
        "    targetCounts = X[target].value_counts()\n",
        "\n",
        "    if X[target].eq('Yes').all():\n",
        "        return 'Yes'\n",
        "    elif X[target].eq('No').all():\n",
        "        return 'No'\n",
        "    elif len(attrs) == 0:\n",
        "        return 'Yes' if targetCounts['Yes'] > targetCounts['No'] else 'No'\n",
        "    else:\n",
        "        gains = [gain(X, a) for a in attrs]\n",
        "        best = attrs[gains.index(max(gains))]\n",
        "        root = {best: {}}\n",
        "        attrs.remove(best)\n",
        "        for v in X[best].unique():\n",
        "            xv = X.loc[X[best]==v]\n",
        "            if len(xv) == 0:\n",
        "                root[best].update({v: 'P' if targetCounts['P'] > targetCounts['No'] else 'No'})\n",
        "            root[best].update({v: id3(xv, target, attrs)})\n",
        "    return root\n",
        "\n",
        "\n",
        "##-----------------------------------------------------------------\n",
        "tree = id3(df, 'play', list(df.columns[:-1]))\n",
        "\n",
        "\n",
        "def visualize(root, indent=0):\n",
        "    if type(root) == dict:\n",
        "        for k, v in root.items():\n",
        "            print(\" \"*indent + f\"{k}:\")\n",
        "            visualize(v, indent+2)\n",
        "    else:\n",
        "        print(\" \"*indent + repr(root))\n",
        "\n",
        "visualize(tree)"
      ],
      "metadata": {
        "colab": {
          "base_uri": "https://localhost:8080/"
        },
        "id": "GJBsWH5gCZTw",
        "outputId": "94529e2d-88f8-4804-af5f-afe56fed5c42"
      },
      "execution_count": 25,
      "outputs": [
        {
          "output_type": "stream",
          "name": "stdout",
          "text": [
            "outlook:\n",
            "  Sunny:\n",
            "    humidity:\n",
            "      High:\n",
            "        'No'\n",
            "      Normal:\n",
            "        'Yes'\n",
            "  Overcast:\n",
            "    'Yes'\n",
            "  Rain:\n",
            "    wind:\n",
            "      Weak:\n",
            "        'Yes'\n",
            "      Strong:\n",
            "        'No'\n"
          ]
        }
      ]
    },
    {
      "cell_type": "markdown",
      "source": [
        "###7. ANN with backpropogation"
      ],
      "metadata": {
        "id": "aedlj4lNEu5k"
      }
    },
    {
      "cell_type": "code",
      "source": [
        "import pandas as pd\n",
        "import numpy as np\n",
        "\n",
        "df = pd.read_csv('/content/drive/MyDrive/STUDY2/ML LAB/DATASETS/NN.csv')\n",
        "y = df[['target']].to_numpy(dtype=float)\n",
        "X = df[['x', 'y']].to_numpy(dtype=float)\n",
        "\n",
        "#X = np.array([[2, 9], [1, 5], [3, 6]], dtype=float)\n",
        "#y = np.array([[92], [86], [89]], dtype=float)"
      ],
      "metadata": {
        "id": "9znU83sTFhy1"
      },
      "execution_count": 71,
      "outputs": []
    },
    {
      "cell_type": "code",
      "source": [
        "# Normalize data\n",
        "X = X / np.amax(X, axis=0)\n",
        "y = y / 100\n",
        "\n",
        "# Sigmoid Function\n",
        "def sigmoid(x):\n",
        "    return 1 / (1 + np.exp(-x))\n",
        "\n",
        "# Derivative of Sigmoid Function\n",
        "def derivatives_sigmoid(x):\n",
        "    return x * (1 - x)\n",
        "\n",
        "# Variable initialization\n",
        "epoch = 5\n",
        "lr = 0.1\n",
        "inputlayer_neurons = 2\n",
        "hiddenlayer_neurons = 3\n",
        "output_neurons = 1\n",
        "\n",
        "# Weight and bias initialization\n",
        "wh = np.random.uniform(size=(inputlayer_neurons, hiddenlayer_neurons))\n",
        "bh = np.random.uniform(size=(1, hiddenlayer_neurons))\n",
        "wout = np.random.uniform(size=(hiddenlayer_neurons, output_neurons))\n",
        "bout = np.random.uniform(size=(1, output_neurons))\n",
        "\n",
        "# Training\n",
        "for i in range(epoch):\n",
        "    # Forward Propagation\n",
        "    hinp1 = np.dot(X, wh)\n",
        "    hinp = hinp1 + bh\n",
        "    hlayer_act = sigmoid(hinp)\n",
        "    outinp1 = np.dot(hlayer_act, wout)\n",
        "    outinp = outinp1 + bout\n",
        "    output = sigmoid(outinp)\n",
        "\n",
        "    # Backpropagation\n",
        "    EO = y - output\n",
        "    outgrad = derivatives_sigmoid(output)\n",
        "    d_output = EO * outgrad\n",
        "    EH = d_output.dot(wout.T)\n",
        "\n",
        "    # How much hidden layer weights contributed to error\n",
        "    hiddengrad = derivatives_sigmoid(hlayer_act)\n",
        "    d_hiddenlayer = EH * hiddengrad\n",
        "\n",
        "    # Update weights\n",
        "    wout += hlayer_act.T.dot(d_output) * lr\n",
        "    wh += X.T.dot(d_hiddenlayer) * lr\n",
        "\n",
        "# Output\n",
        "print(\"Weights:\")\n",
        "for i, w in enumerate(wh.T):\n",
        "    print(i ,\":\", dict(zip(range(2), w)))\n",
        "\n",
        "for j, w in enumerate(wout.T):\n",
        "    print(j+2 ,\":\", dict(zip(range(2), w)))\n",
        "\n",
        "for k, b in enumerate(bh[0]):\n",
        "    print(k+4 ,\":\", b)\n",
        "\n",
        "for l, b in enumerate(bout[0]):\n",
        "    print(l+4 ,\":\", b)\n",
        "\n",
        "# Test the model\n",
        "for i in range(len(X)):\n",
        "    test_input = X[i]\n",
        "    expected_output = y[i][0]\n",
        "\n",
        "    h_input = np.dot(test_input, wh) + bh\n",
        "    h_output = sigmoid(h_input)\n",
        "    final_input = np.dot(h_output, wout) + bout\n",
        "    final_output = sigmoid(final_input)[0]\n",
        "\n",
        "    print(\"\\nNormalized Inputs:\", test_input)\n",
        "    print(\"Expected normalized output:\", expected_output)\n",
        "    print(\"After 5 epochs Output:\", final_output)"
      ],
      "metadata": {
        "colab": {
          "base_uri": "https://localhost:8080/"
        },
        "id": "x-WEO-TVGUli",
        "outputId": "11e16c1f-edf7-4d90-d276-a701cf5f4d9f"
      },
      "execution_count": 72,
      "outputs": [
        {
          "output_type": "stream",
          "name": "stdout",
          "text": [
            "Weights:\n",
            "0 : {0: 0.7222297400548994, 1: 0.47692392422466073}\n",
            "1 : {0: 0.014018865861864222, 1: 0.522156644653065}\n",
            "2 : {0: 0.08182134627941348, 1: 0.770895676875111}\n",
            "2 : {0: 0.14048769736949196, 1: 0.7000394116467773}\n",
            "4 : 0.651375014278689\n",
            "5 : 0.9439456729805844\n",
            "6 : 0.7280253931663705\n",
            "4 : 0.3694778130194013\n",
            "\n",
            "Normalized Inputs: [0.66666667 1.        ]\n",
            "Expected normalized output: 0.92\n",
            "After 5 epochs Output: [0.8630241]\n",
            "\n",
            "Normalized Inputs: [0.33333333 0.55555556]\n",
            "Expected normalized output: 0.86\n",
            "After 5 epochs Output: [0.85152485]\n",
            "\n",
            "Normalized Inputs: [1.         0.66666667]\n",
            "Expected normalized output: 0.89\n",
            "After 5 epochs Output: [0.85685804]\n"
          ]
        }
      ]
    },
    {
      "cell_type": "markdown",
      "source": [
        "###8. K-Means - EM algorithm"
      ],
      "metadata": {
        "id": "KzxJYAK_I-eq"
      }
    },
    {
      "cell_type": "code",
      "source": [
        "import matplotlib.pyplot as plt\n",
        "from sklearn import datasets\n",
        "from sklearn.cluster import KMeans\n",
        "import pandas as pd\n",
        "import numpy as np\n",
        "from sklearn.mixture import GaussianMixture\n",
        "from sklearn import preprocessing\n",
        "\n",
        "iris = datasets.load_iris()\n",
        "\n",
        "x = pd.DataFrame(iris.data)\n",
        "x.columns = iris.feature_names\n",
        "y = pd.DataFrame(iris.target)\n",
        "y.columns = ['Target']"
      ],
      "metadata": {
        "id": "0jTdrlguJBwQ"
      },
      "execution_count": 73,
      "outputs": []
    },
    {
      "cell_type": "code",
      "source": [
        "model = KMeans(n_clusters= 3)\n",
        "model.fit(x)\n",
        "\n",
        "plt.figure(figsize=(7,7))\n",
        "colormap = np.array(['red', 'lime', 'black'])\n",
        "\n",
        "plt.subplot(2, 2, 1)\n",
        "plt.scatter(x['petal length (cm)'], x['petal width (cm)'], c = colormap[y.Target], s = 40)\n",
        "plt.title('Real Clusters')\n",
        "plt.xlabel('Petal Length')\n",
        "plt.ylabel('Petal Width')\n",
        "\n",
        "plt.subplot(2, 2, 2)\n",
        "plt.scatter(x['petal length (cm)'], x['petal width (cm)'], c = colormap[model.labels_], s = 40)\n",
        "plt.title('K-Means Clusters')\n",
        "plt.xlabel('Petal Length')\n",
        "plt.ylabel('Petal Width')\n",
        "\n",
        "\n",
        "scaler = preprocessing.StandardScaler()\n",
        "scaler.fit(x)\n",
        "xsa = scaler.transform(x)\n",
        "xs = pd.DataFrame(xsa, columns = x.columns)\n",
        "\n",
        "gmm = GaussianMixture(n_components = 3)\n",
        "gmm.fit(xs)\n",
        "gmm_y = gmm.predict(xs)\n",
        "plt.subplot(2, 2, 3)\n",
        "plt.scatter(x['petal length (cm)'], x['petal width (cm)'], c = colormap[gmm_y], s = 40)\n",
        "plt.title('GMM Clusters')\n",
        "plt.xlabel('Petal Length')\n",
        "plt.ylabel('Petal Width')\n",
        "print('Observation: The GMM using EM Algorithm based clustering matched the true labels more closely than the K-Means')"
      ],
      "metadata": {
        "colab": {
          "base_uri": "https://localhost:8080/",
          "height": 693
        },
        "id": "jh3KXB2JJMiu",
        "outputId": "cf69a4a3-cd46-4aa1-b788-48743740ba3c"
      },
      "execution_count": 77,
      "outputs": [
        {
          "output_type": "stream",
          "name": "stderr",
          "text": [
            "/usr/local/lib/python3.10/dist-packages/sklearn/cluster/_kmeans.py:870: FutureWarning: The default value of `n_init` will change from 10 to 'auto' in 1.4. Set the value of `n_init` explicitly to suppress the warning\n",
            "  warnings.warn(\n"
          ]
        },
        {
          "output_type": "stream",
          "name": "stdout",
          "text": [
            "Observation: The GMM using EM Algorithm based clustering matched the true labels more closely than the K-Means\n"
          ]
        },
        {
          "output_type": "display_data",
          "data": {
            "text/plain": [
              "<Figure size 700x700 with 3 Axes>"
            ],
            "image/png": "[encoded data removed]"
          },
          "metadata": {}
        }
      ]
    },
    {
      "cell_type": "markdown",
      "source": [
        "###9. k-Nearest Neighbor algorithm"
      ],
      "metadata": {
        "id": "uu5QReJHJpBH"
      }
    },
    {
      "cell_type": "code",
      "source": [
        "import numpy as np\n",
        "import pandas as pd\n",
        "from sklearn.model_selection import train_test_split\n",
        "from sklearn.metrics import classification_report\n",
        "from sklearn import datasets\n",
        "from collections import Counter\n",
        "\n",
        "iris = datasets.load_iris()\n",
        "x_train, x_test, y_train, y_test = train_test_split(iris.data, iris.target, test_size=0.1)\n",
        "k = 3"
      ],
      "metadata": {
        "id": "bWyX8uoMJsQE"
      },
      "execution_count": 78,
      "outputs": []
    },
    {
      "cell_type": "code",
      "source": [
        "y_pred = np.array([], dtype=int)\n",
        "\n",
        "for test in x_test:\n",
        "    distances = np.array([])\n",
        "    for train in x_train:\n",
        "        v = np.sqrt(sum([(test[i]-train[i])**2 for i in range(train.shape[0])]))\n",
        "        distances = np.append(distances, [v])\n",
        "    nearest_indices = np.argsort(distances)[:k]\n",
        "    nearest_labels = y_train[nearest_indices]\n",
        "    counter = Counter(nearest_labels)\n",
        "    most_common_label = counter.most_common(1)[0][0]\n",
        "    y_pred = np.append(y_pred, [most_common_label])\n",
        "\n",
        "confusion_matrix = pd.DataFrame([[0, 0, 0],[0, 0, 0], [0, 0, 0]], columns=[0, 1, 2], index=[0, 1, 2])\n",
        "correct = 0\n",
        "\n",
        "for i in range(y_test.shape[0]):\n",
        "    print(f\"Sample: {x_test[i]}, Actual Label: {y_test[i]}, Predicted Label: {y_pred[i]}\")\n",
        "    if y_test[i] == y_pred[i]: correct += 1\n",
        "    confusion_matrix.iloc[y_test[i], y_pred[i]] += 1\n",
        "\n",
        "print(f\"{correct} number of correct classifications out of {y_pred.shape[0]}\")\n",
        "print(confusion_matrix)\n",
        "print(classification_report(y_test, y_pred))"
      ],
      "metadata": {
        "colab": {
          "base_uri": "https://localhost:8080/"
        },
        "id": "5rvWWZJ3J1HX",
        "outputId": "047fe7e2-69e9-409b-c038-604911c9ddcf"
      },
      "execution_count": 79,
      "outputs": [
        {
          "output_type": "stream",
          "name": "stdout",
          "text": [
            "Sample: [4.9 2.5 4.5 1.7], Actual Label: 2, Predicted Label: 1\n",
            "Sample: [5.6 3.  4.5 1.5], Actual Label: 1, Predicted Label: 1\n",
            "Sample: [4.6 3.2 1.4 0.2], Actual Label: 0, Predicted Label: 0\n",
            "Sample: [6.  2.9 4.5 1.5], Actual Label: 1, Predicted Label: 1\n",
            "Sample: [6.4 2.8 5.6 2.1], Actual Label: 2, Predicted Label: 2\n",
            "Sample: [5.2 4.1 1.5 0.1], Actual Label: 0, Predicted Label: 0\n",
            "Sample: [5.6 2.8 4.9 2. ], Actual Label: 2, Predicted Label: 2\n",
            "Sample: [5.1 3.8 1.9 0.4], Actual Label: 0, Predicted Label: 0\n",
            "Sample: [6.9 3.1 5.4 2.1], Actual Label: 2, Predicted Label: 2\n",
            "Sample: [6.4 2.7 5.3 1.9], Actual Label: 2, Predicted Label: 2\n",
            "Sample: [5.1 3.5 1.4 0.2], Actual Label: 0, Predicted Label: 0\n",
            "Sample: [5.6 2.9 3.6 1.3], Actual Label: 1, Predicted Label: 1\n",
            "Sample: [6.2 3.4 5.4 2.3], Actual Label: 2, Predicted Label: 2\n",
            "Sample: [6.3 3.3 6.  2.5], Actual Label: 2, Predicted Label: 2\n",
            "Sample: [6.9 3.2 5.7 2.3], Actual Label: 2, Predicted Label: 2\n",
            "14 number of correct classifications out of 15\n",
            "   0  1  2\n",
            "0  4  0  0\n",
            "1  0  3  0\n",
            "2  0  1  7\n",
            "              precision    recall  f1-score   support\n",
            "\n",
            "           0       1.00      1.00      1.00         4\n",
            "           1       0.75      1.00      0.86         3\n",
            "           2       1.00      0.88      0.93         8\n",
            "\n",
            "    accuracy                           0.93        15\n",
            "   macro avg       0.92      0.96      0.93        15\n",
            "weighted avg       0.95      0.93      0.94        15\n",
            "\n"
          ]
        }
      ]
    },
    {
      "cell_type": "markdown",
      "source": [
        "###10. Locally Weighted Regression"
      ],
      "metadata": {
        "id": "2BAfF8V0KBGp"
      }
    },
    {
      "cell_type": "code",
      "source": [
        "import pandas as pd\n",
        "import numpy as np\n",
        "from sklearn.model_selection import train_test_split\n",
        "import matplotlib.pyplot as plt"
      ],
      "metadata": {
        "id": "Xz5mO_SaKCYE"
      },
      "execution_count": 80,
      "outputs": []
    },
    {
      "cell_type": "code",
      "source": [
        "def kernel(point, xmat, τ):\n",
        "    m, n = np.shape(xmat)\n",
        "    weights = np.mat(np.eye((m)))\n",
        "\n",
        "    for j in range(m):\n",
        "        diff = point - X[j]\n",
        "        weights[j, j] = np.exp(diff * diff.T / (-2 * τ**2))\n",
        "\n",
        "    return weights\n",
        "\n",
        "def localWeight(point, xmat, ymat, τ):\n",
        "    wt = kernel(point, xmat, τ)\n",
        "    W = (X.T * (wt * X)).I * (X.T * wt * ymat.T)\n",
        "    return W\n",
        "\n",
        "def localWeightRegression(xmat, ymat, τ):\n",
        "    m, n = xmat.shape\n",
        "    y_pred = np.zeros(m)\n",
        "\n",
        "    for i in range(m):\n",
        "        y_pred[i] = xmat[i] * localWeight(xmat[i], xmat, ymat, τ)\n",
        "\n",
        "    return y_pred"
      ],
      "metadata": {
        "id": "wB67sN0XKHYs"
      },
      "execution_count": 81,
      "outputs": []
    },
    {
      "cell_type": "code",
      "source": [
        "data = pd.read_csv('/content/drive/MyDrive/STUDY2/ML LAB/LABCYCLE/ALI/10-dataset.csv')\n",
        "\n",
        "colA = np.array(data.total_bill)\n",
        "colB = np.array(data.tip)\n",
        "\n",
        "mColA, mColB = np.mat(colA), np.mat(colB)\n",
        "\n",
        "m = mColB.shape[1]\n",
        "one = np.ones((1, m), dtype = int)\n",
        "\n",
        "X = np.hstack((one.T, mColA.T))\n",
        "print(X.shape)\n",
        "\n",
        "yPred = localWeightRegression(X, mColB, 0.8)\n",
        "\n",
        "xsort = X.copy()\n",
        "xsort.sort(axis = 0)\n",
        "\n",
        "plt.scatter(colA, colB, color='blue')\n",
        "plt.plot(xsort[:, 1], yPred[X[:, 1].argsort(0)], color='yellow', linewidth=5)\n",
        "plt.xlabel('Total Bill')\n",
        "plt.ylabel('Tip')\n",
        "plt.show()"
      ],
      "metadata": {
        "colab": {
          "base_uri": "https://localhost:8080/",
          "height": 556
        },
        "id": "Tdf5bgJ_KKLP",
        "outputId": "55d34649-9366-47e1-c5e5-5f0bf03ea07e"
      },
      "execution_count": 82,
      "outputs": [
        {
          "output_type": "stream",
          "name": "stdout",
          "text": [
            "(244, 2)\n"
          ]
        },
        {
          "output_type": "stream",
          "name": "stderr",
          "text": [
            "<ipython-input-81-188798acbdac>:7: DeprecationWarning: Conversion of an array with ndim > 0 to a scalar is deprecated, and will error in future. Ensure you extract a single element from your array before performing this operation. (Deprecated NumPy 1.25.)\n",
            "  weights[j, j] = np.exp(diff * diff.T / (-2 * τ**2))\n",
            "<ipython-input-81-188798acbdac>:21: DeprecationWarning: Conversion of an array with ndim > 0 to a scalar is deprecated, and will error in future. Ensure you extract a single element from your array before performing this operation. (Deprecated NumPy 1.25.)\n",
            "  y_pred[i] = xmat[i] * localWeight(xmat[i], xmat, ymat, τ)\n"
          ]
        },
        {
          "output_type": "display_data",
          "data": {
            "text/plain": [
              "<Figure size 640x480 with 1 Axes>"
            ],
            "image/png": "[encoded data removed]"
          },
          "metadata": {}
        }
      ]
    }
  ]
}